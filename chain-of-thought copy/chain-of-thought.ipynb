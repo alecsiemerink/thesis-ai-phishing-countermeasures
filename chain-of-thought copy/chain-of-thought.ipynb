{
 "cells": [
  {
   "cell_type": "markdown",
   "metadata": {},
   "source": [
    "## Setup\n",
    "Here we will import the libraries that are needed, and load the data into a pandas dataframe.\n",
    "Also, the OpenAI client will be set up and authentication is handled."
   ]
  },
  {
   "cell_type": "code",
   "execution_count": 10,
   "metadata": {},
   "outputs": [],
   "source": [
    "import pandas as pd\n",
    "import os\n",
    "import json\n",
    "from openai import OpenAI\n",
    "\n",
    "# Load the CSV file\n",
    "df = pd.read_csv('./dataset.csv')\n",
    "\n",
    "# Limit the number of rows (Set to None to process all rows)\n",
    "row_limit = 100  # Adjust this number based on cost considerations\n",
    "\n",
    "client = OpenAI(\n",
    "    api_key='<API_KEY>'\n",
    ")"
   ]
  },
  {
   "cell_type": "markdown",
   "metadata": {},
   "source": [
    "### Prompt"
   ]
  },
  {
   "cell_type": "code",
   "execution_count": 8,
   "metadata": {},
   "outputs": [],
   "source": [
    "chain_of_thought = \"\"\"\n",
    "\"Given an email, your task is to analyze the email to determine if it's a phishing attempt. Apply a chain-of-thought process by following this detailed framework, which includes psychological traits and cognitive biases, complete with explanations and examples. For the email, proceed through the steps outlined below, utilizing your critical thinking and knowledge to guide your analysis and conclusions.\n",
    "\n",
    "Step 1: Identify Psychological Traits and Cognitive Biases\n",
    "\n",
    "Before analyzing the emails, understand these psychological traits and cognitive biases that phishers exploit, along with explanations and specific examples:\n",
    "\n",
    "    A Sense of Urgency\n",
    "        Explanation: Creating a sense of urgency pressures the recipient into making decisions quickly, often without sufficient time to consider the consequences.\n",
    "        Examples:\n",
    "            Email claiming account suspension within 24 hours unless a link is clicked.\n",
    "            Notification of an outstanding invoice requiring immediate payment.\n",
    "\n",
    "    Inducing Fear by Threatening\n",
    "        Explanation: This involves invoking fear to coerce individuals into complying with the attacker's demands, under the threat of negative outcomes.\n",
    "        Examples:\n",
    "            Message claiming to be from the tax authority threatens legal action and fines for supposedly unpaid taxes.\n",
    "            Email falsely claiming that personal data has been compromised in a security breach.\n",
    "\n",
    "    Enticement with Desire\n",
    "        Explanation: This tactic plays on desires or greed, offering something too good to be true to lure individuals into performing specific actions.\n",
    "        Examples:\n",
    "            Email congratulating on winning a large sum of money, requesting personal information or a fee to process the winnings.\n",
    "            Message offering an exclusive deal or a significant discount on high-value products.\n",
    "\n",
    "    Authority Bias\n",
    "        Explanation: This bias makes individuals more likely to trust and follow suggestions or orders from a figure of authority or someone perceived as an expert.\n",
    "        Examples:\n",
    "            Email purportedly from the company's CEO directs the employee to transfer funds urgently or share sensitive information.\n",
    "            Communication claiming to be from a government agency, demanding personal information for verification purposes.\n",
    "\n",
    "    Recency Effect\n",
    "        Explanation: This effect describes the tendency to remember and prioritize the most recently presented information over older data.\n",
    "        Examples:\n",
    "            Phishing campaign following a natural disaster, urging donations to a fraudulent charity.\n",
    "            Emails advertising a recent technological breakthrough, offering early access in exchange for personal details or financial information.\n",
    "\n",
    "    Halo Effect\n",
    "        Explanation: The halo effect occurs when an overall impression of a person or brand influences feelings and thoughts about their character or properties.\n",
    "        Examples:\n",
    "            Email mimicking a well-respected brand, such as Apple or Microsoft, to trick individuals into disclosing login credentials.\n",
    "            Messages claiming a celebrity endorses a product or investment scheme, urging immediate action to take advantage of the offer.\n",
    "\n",
    "    Hyperbolic Discounting\n",
    "        Explanation: This describes the preference for smaller, immediate rewards over larger, delayed benefits, exploiting the human tendency to want instant gratification.\n",
    "        Examples:\n",
    "            Email offering an immediate but limited-time discount, requiring quick action to provide payment information.\n",
    "            Message promising a high return on investment in a short period, asking for an upfront payment or financial details.\n",
    "\n",
    "    Curiosity Effect\n",
    "        Explanation: This effect leverages human curiosity to entice individuals into seeking more information, often leading them into risky situations.\n",
    "        Examples:\n",
    "            Email with a vague but intriguing subject line, tempting the recipient to open an attached file that contains malware.\n",
    "            Message that piques curiosity with a vague promise of a unique opportunity, directing users to a phishing site designed to harvest personal data.\n",
    "\n",
    "This comprehensive understanding of psychological traits and cognitive biases will serve as a critical foundation for your email analysis. Keep these traits and examples in mind as you examine each email in the dataset, looking for signs that indicate the use of these tactics.\n",
    "\n",
    "Step 2: Examine The Email\n",
    "\n",
    "For every email, look for indications of these traits and biases. Consider:\n",
    "\n",
    "    Does the email create an urgent need to act?\n",
    "    Is there a threat that induces fear?\n",
    "    Are there offers that entice with desire or seem too good to be true?\n",
    "    Does the email falsely claim authority or expertise?\n",
    "    Are recent events exploited to make the message seem more urgent or relevant?\n",
    "    Is there an implication of a reputable brand or celebrity endorsement to gain trust?\n",
    "    Are there offers for immediate rewards?\n",
    "    Does the email pique curiosity with vague promises or intriguing attachments?\n",
    "\n",
    "Step 3: Implementation Description\n",
    "\n",
    "Describe how each identified trait or bias is implemented within the email. This involves considering:\n",
    "\n",
    "    The language and tone used: Is it pressing, threatening, overly enticing, or authoritative?\n",
    "    The context: Are there references to current events, reputable brands, or authorities?\n",
    "    The offer: Is there a promise of immediate gain or a solution to a provoked fear or problem?\n",
    "\n",
    "Step 4: Apply Chain-of-Thought Reasoning\n",
    "\n",
    "Reflect on your findings and apply reasoning:\n",
    "\n",
    "    If multiple traits and biases are present, how do they interact?\n",
    "    Do the specific examples provided in the framework match the tactics used in the email?\n",
    "    Considering the overall context and presentation, does the email align with common phishing strategies?\n",
    "\n",
    "Step 5: Make a Conclusion\n",
    "\n",
    "Based on the analysis, conclude whether the email is likely a phishing attempt or not. Consider:\n",
    "\n",
    "    The number and nature of phishing characteristics identified.\n",
    "    How closely the email follows known phishing patterns and examples.\n",
    "    Any external knowledge or phishing indicators, such as suspicious sender addresses or requests for personal information.\n",
    "\n",
    "Reflecting on the Analysis Process\n",
    "\n",
    "This chain-of-thought approach encourages a comprehensive examination of each email, ensuring no detail is overlooked. By methodically considering each step and applying reasoned judgment, you'll be better equipped to identify and understand phishing attempts within your dataset.\n",
    "\n",
    "Instructions: provide the analysis result in json format with the following parts:\n",
    "is_deceptive: Boolean (True for phishing, False for not phishing)\n",
    "explanation: Text explaining the reasoning behind the decision.\"\n",
    "\"\"\""
   ]
  },
  {
   "cell_type": "markdown",
   "metadata": {},
   "source": [
    "## Analysis\n",
    "In this part, every email in the provided dataset is analyzed to determine if it is a phishing email or not. \n",
    "The results are then saved to another csv file for further analysis."
   ]
  },
  {
   "cell_type": "code",
   "execution_count": 11,
   "metadata": {},
   "outputs": [],
   "source": [
    "# Create a new DataFrame to store the processed rows\n",
    "processed_df = pd.DataFrame(columns=df.columns)\n",
    "\n",
    "# Process each row in the DataFrame\n",
    "for index, row in df.iterrows():\n",
    "    if row_limit is not None and index >= row_limit:\n",
    "        break\n",
    "\n",
    "    email_text = row['text']    \n",
    "\n",
    "    completion = client.chat.completions.create(\n",
    "        model=\"gpt-3.5-turbo-1106\",\n",
    "        response_format={ \"type\": \"json_object\" },\n",
    "        messages=[\n",
    "            {\"role\": \"system\", \"content\": chain_of_thought},\n",
    "            {\"role\": \"user\", \"content\": email_text}\n",
    "        ]\n",
    "    )\n",
    "    response = completion.choices[0].message.content\n",
    "    response_json = json.loads(response)\n",
    "\n",
    "    new_row = pd.DataFrame({\n",
    "        'text': [email_text],\n",
    "        'is_deceptive': [response_json['is_deceptive']],\n",
    "        'explanation': [response_json['explanation']],\n",
    "    })\n",
    "    processed_df = pd.concat([processed_df, new_row], ignore_index=True)\n",
    "\n",
    "# Export DataFrame to a new CSV file\n",
    "processed_df.to_csv('processed.csv', index=False)"
   ]
  },
  {
   "cell_type": "markdown",
   "metadata": {},
   "source": [
    "## Statistical performance analysis\n",
    "In this part, the performance of the model is analyzed using statistical measures such as accuracy, precision, recall, and F1 score."
   ]
  },
  {
   "cell_type": "code",
   "execution_count": 3,
   "metadata": {},
   "outputs": [
    {
     "name": "stdout",
     "output_type": "stream",
     "text": [
      "Accuracy: 80.00%\n",
      "Precision: 70.15%\n",
      "Recall: 100.00%\n",
      "F1 Score: 82.46%\n"
     ]
    }
   ],
   "source": [
    "import pandas as pd\n",
    "from sklearn.metrics import accuracy_score, precision_score, recall_score, f1_score\n",
    "\n",
    "# Load the datasets\n",
    "processed_df = pd.read_csv('./processed.csv')\n",
    "true_labels_df = pd.read_csv('./sample_labeled.csv')\n",
    "\n",
    "# Extracting the predicted and true labels\n",
    "y_pred = processed_df['is_deceptive'].values\n",
    "y_true = true_labels_df['is_deceptive'].values\n",
    "\n",
    "# Calculate the evaluation metrics\n",
    "gpt3_accuracy = accuracy_score(y_true, y_pred)\n",
    "gpt3_precision = precision_score(y_true, y_pred)\n",
    "gpt3_recall = recall_score(y_true, y_pred)\n",
    "gpt3_f1 = f1_score(y_true, y_pred)\n",
    "\n",
    "# Print the scores\n",
    "print(f\"Accuracy: {gpt3_accuracy*100:.2f}%\")\n",
    "print(f\"Precision: {gpt3_precision*100:.2f}%\")\n",
    "print(f\"Recall: {gpt3_recall*100:.2f}%\")\n",
    "print(f\"F1 Score: {gpt3_f1*100:.2f}%\")\n"
   ]
  },
  {
   "cell_type": "markdown",
   "metadata": {},
   "source": [
    "1. Accuracy (80.00%)\n",
    "\n",
    "    Implication: With an accuracy of 80%, the system correctly identifies 8 out of every 10 emails, whether they're phishing or legitimate. This level suggests that the system has a good foundation but might be improved to increase its reliability, especially in detecting legitimate emails accurately.\n",
    "\n",
    "2. Precision (70.15%)\n",
    "\n",
    "    Implication: A precision of 70.15% indicates that when the system flags an email as phishing, there's a roughly 70% chance it is indeed phishing. This lower precision compared to the previous scenarios suggests a relatively higher rate of false positives, where legitimate emails are misclassified as phishing. This could disrupt user experience and trust, highlighting a need for improvement in distinguishing phishing emails more accurately.\n",
    "\n",
    "3. Recall (100.00%)\n",
    "\n",
    "    Implication: A recall of 100% is noteworthy, indicating the system identifies all actual phishing attempts without missing any. This perfect recall rate is crucial for security, ensuring no phishing emails bypass the system to reach end-users. However, the high recall, in this case, may be contributing to the lower precision, suggesting the system errs on the side of caution by flagging more emails as phishing, including some that are not.\n",
    "\n",
    "4. F1 Score (82.46%)\n",
    "\n",
    "    Implication: The F1 score, at 82.46%, reflects a balance between precision and recall, weighted more heavily towards recall due to its perfect score. While the high F1 score suggests the system is effective overall, the balance is skewed, indicating that the system might be overzealous in its phishing detection, leading to more false positives.\n",
    "    \n",
    "In the Context of Phishing Countermeasures:\n",
    "\n",
    "Prioritizing Security Over Convenience: The perfect recall rate demonstrates a prioritization of security, aiming to ensure no phishing emails reach users. However, this comes at the cost of user convenience due to a higher false positive rate.\n",
    "\n",
    "Need for Refinement to Reduce False Positives: To improve the user experience and maintain trust in the system, efforts should focus on reducing false positives. This might involve more sophisticated or tailored detection algorithms that can more accurately distinguish between phishing and legitimate emails.\n",
    "\n",
    "A Trade-off Between Precision and Recall: This scenario exemplifies a trade-off where maximizing recall has led to diminished precision. Optimizing both metrics simultaneously can be challenging but is essential for a balanced and effective phishing detection system.\n",
    "\n",
    "Importance of Continuous Monitoring and Feedback: Incorporating continuous monitoring and feedback mechanisms can help identify areas for improvement, particularly in reducing false positives. User feedback can also provide valuable insights into the system's performance in real-world scenarios.\n",
    "\n",
    "Complementary Measures: Given the system's current limitations, complementary security measures and user education become even more critical. Educating users about phishing and encouraging vigilance can serve as an additional layer of defense, especially in scenarios where legitimate emails are misclassified."
   ]
  },
  {
   "cell_type": "markdown",
   "metadata": {},
   "source": [
    "# GPT-4 Analysis"
   ]
  },
  {
   "cell_type": "code",
   "execution_count": 16,
   "metadata": {},
   "outputs": [],
   "source": [
    "# Create a new DataFrame to store the processed rows\n",
    "processed_df = pd.DataFrame(columns=df.columns)\n",
    "\n",
    "# Process each row in the DataFrame\n",
    "for index, row in df.iterrows():\n",
    "    if row_limit is not None and index >= row_limit:\n",
    "        break\n",
    "    # Construct the prompt\n",
    "    prompt = chain_of_thought + f\"\\n\\n{row['text']}\"    \n",
    "    # print(\"Prompt:\", prompt)\n",
    "\n",
    "    email_text = row['text']    \n",
    "\n",
    "    completion = client.chat.completions.create(\n",
    "        model=\"gpt-4-turbo-preview\",\n",
    "        # model=\"gpt-3.5-turbo-1106\",\n",
    "        response_format={ \"type\": \"json_object\" },\n",
    "        messages=[\n",
    "            {\"role\": \"system\", \"content\": chain_of_thought},\n",
    "            {\"role\": \"user\", \"content\": email_text}\n",
    "        ]\n",
    "    )\n",
    "    response = completion.choices[0].message.content\n",
    "    response_json = json.loads(response)\n",
    "\n",
    "    new_row = pd.DataFrame({\n",
    "        'text': [email_text],\n",
    "        'is_deceptive': [response_json['is_deceptive']],\n",
    "        'explanation': [response_json['explanation']],\n",
    "    })\n",
    "    processed_df = pd.concat([processed_df, new_row], ignore_index=True)\n",
    "\n",
    "\n",
    "# Export DataFrame to a new CSV file\n",
    "processed_df.to_csv('gpt4t-cot-processed.csv', index=False)"
   ]
  },
  {
   "cell_type": "code",
   "execution_count": 17,
   "metadata": {},
   "outputs": [],
   "source": [
    "a = processed_df"
   ]
  },
  {
   "cell_type": "markdown",
   "metadata": {},
   "source": []
  },
  {
   "cell_type": "code",
   "execution_count": 8,
   "metadata": {},
   "outputs": [
    {
     "name": "stdout",
     "output_type": "stream",
     "text": [
      "Accuracy: 91.00%\n",
      "Precision: 93.18%\n",
      "Recall: 87.23%\n",
      "F1 Score: 90.11%\n"
     ]
    }
   ],
   "source": [
    "import pandas as pd\n",
    "from sklearn.metrics import accuracy_score, precision_score, recall_score, f1_score\n",
    "\n",
    "# Load the datasets\n",
    "processed_df = pd.read_csv('./gpt4t-cot-processed.csv')\n",
    "true_labels_df = pd.read_csv('./sample_labeled.csv')\n",
    "\n",
    "# Make sure the datasets are aligned if necessary. This example assumes they're already aligned.\n",
    "\n",
    "# Extracting the predicted and true labels\n",
    "y_pred = processed_df['is_deceptive'].values\n",
    "y_true = true_labels_df['is_deceptive'].values\n",
    "\n",
    "# Calculate the evaluation metrics\n",
    "gpt4_accuracy = accuracy_score(y_true, y_pred)\n",
    "gpt4_precision = precision_score(y_true, y_pred)\n",
    "gpt4_recall = recall_score(y_true, y_pred)\n",
    "gpt4_f1 = f1_score(y_true, y_pred)\n",
    "\n",
    "# Print the scores\n",
    "print(f\"Accuracy: {gpt4_accuracy*100:.2f}%\")\n",
    "print(f\"Precision: {gpt4_precision*100:.2f}%\")\n",
    "print(f\"Recall: {gpt4_recall*100:.2f}%\")\n",
    "print(f\"F1 Score: {gpt4_f1*100:.2f}%\")\n"
   ]
  },
  {
   "cell_type": "code",
   "execution_count": 9,
   "metadata": {},
   "outputs": [
    {
     "data": {
      "application/vnd.plotly.v1+json": {
       "config": {
        "plotlyServerURL": "https://plot.ly"
       },
       "data": [
        {
         "marker": {
          "color": "indianred"
         },
         "name": "Accuracy",
         "type": "bar",
         "x": [
          "GPT-3",
          "GPT-4"
         ],
         "y": [
          0.8,
          0.91
         ]
        },
        {
         "marker": {
          "color": "lightsalmon"
         },
         "name": "Precision",
         "type": "bar",
         "x": [
          "GPT-3",
          "GPT-4"
         ],
         "y": [
          0.7014925373134329,
          0.9318181818181818
         ]
        },
        {
         "marker": {
          "color": "lightseagreen"
         },
         "name": "Recall",
         "type": "bar",
         "x": [
          "GPT-3",
          "GPT-4"
         ],
         "y": [
          1,
          0.8723404255319149
         ]
        },
        {
         "marker": {
          "color": "royalblue"
         },
         "name": "F1 Score",
         "type": "bar",
         "x": [
          "GPT-3",
          "GPT-4"
         ],
         "y": [
          0.8245614035087719,
          0.9010989010989011
         ]
        }
       ],
       "layout": {
        "barmode": "group",
        "legend": {
         "title": {
          "text": "Metrics"
         }
        },
        "template": {
         "data": {
          "bar": [
           {
            "error_x": {
             "color": "#2a3f5f"
            },
            "error_y": {
             "color": "#2a3f5f"
            },
            "marker": {
             "line": {
              "color": "#E5ECF6",
              "width": 0.5
             },
             "pattern": {
              "fillmode": "overlay",
              "size": 10,
              "solidity": 0.2
             }
            },
            "type": "bar"
           }
          ],
          "barpolar": [
           {
            "marker": {
             "line": {
              "color": "#E5ECF6",
              "width": 0.5
             },
             "pattern": {
              "fillmode": "overlay",
              "size": 10,
              "solidity": 0.2
             }
            },
            "type": "barpolar"
           }
          ],
          "carpet": [
           {
            "aaxis": {
             "endlinecolor": "#2a3f5f",
             "gridcolor": "white",
             "linecolor": "white",
             "minorgridcolor": "white",
             "startlinecolor": "#2a3f5f"
            },
            "baxis": {
             "endlinecolor": "#2a3f5f",
             "gridcolor": "white",
             "linecolor": "white",
             "minorgridcolor": "white",
             "startlinecolor": "#2a3f5f"
            },
            "type": "carpet"
           }
          ],
          "choropleth": [
           {
            "colorbar": {
             "outlinewidth": 0,
             "ticks": ""
            },
            "type": "choropleth"
           }
          ],
          "contour": [
           {
            "colorbar": {
             "outlinewidth": 0,
             "ticks": ""
            },
            "colorscale": [
             [
              0,
              "#0d0887"
             ],
             [
              0.1111111111111111,
              "#46039f"
             ],
             [
              0.2222222222222222,
              "#7201a8"
             ],
             [
              0.3333333333333333,
              "#9c179e"
             ],
             [
              0.4444444444444444,
              "#bd3786"
             ],
             [
              0.5555555555555556,
              "#d8576b"
             ],
             [
              0.6666666666666666,
              "#ed7953"
             ],
             [
              0.7777777777777778,
              "#fb9f3a"
             ],
             [
              0.8888888888888888,
              "#fdca26"
             ],
             [
              1,
              "#f0f921"
             ]
            ],
            "type": "contour"
           }
          ],
          "contourcarpet": [
           {
            "colorbar": {
             "outlinewidth": 0,
             "ticks": ""
            },
            "type": "contourcarpet"
           }
          ],
          "heatmap": [
           {
            "colorbar": {
             "outlinewidth": 0,
             "ticks": ""
            },
            "colorscale": [
             [
              0,
              "#0d0887"
             ],
             [
              0.1111111111111111,
              "#46039f"
             ],
             [
              0.2222222222222222,
              "#7201a8"
             ],
             [
              0.3333333333333333,
              "#9c179e"
             ],
             [
              0.4444444444444444,
              "#bd3786"
             ],
             [
              0.5555555555555556,
              "#d8576b"
             ],
             [
              0.6666666666666666,
              "#ed7953"
             ],
             [
              0.7777777777777778,
              "#fb9f3a"
             ],
             [
              0.8888888888888888,
              "#fdca26"
             ],
             [
              1,
              "#f0f921"
             ]
            ],
            "type": "heatmap"
           }
          ],
          "heatmapgl": [
           {
            "colorbar": {
             "outlinewidth": 0,
             "ticks": ""
            },
            "colorscale": [
             [
              0,
              "#0d0887"
             ],
             [
              0.1111111111111111,
              "#46039f"
             ],
             [
              0.2222222222222222,
              "#7201a8"
             ],
             [
              0.3333333333333333,
              "#9c179e"
             ],
             [
              0.4444444444444444,
              "#bd3786"
             ],
             [
              0.5555555555555556,
              "#d8576b"
             ],
             [
              0.6666666666666666,
              "#ed7953"
             ],
             [
              0.7777777777777778,
              "#fb9f3a"
             ],
             [
              0.8888888888888888,
              "#fdca26"
             ],
             [
              1,
              "#f0f921"
             ]
            ],
            "type": "heatmapgl"
           }
          ],
          "histogram": [
           {
            "marker": {
             "pattern": {
              "fillmode": "overlay",
              "size": 10,
              "solidity": 0.2
             }
            },
            "type": "histogram"
           }
          ],
          "histogram2d": [
           {
            "colorbar": {
             "outlinewidth": 0,
             "ticks": ""
            },
            "colorscale": [
             [
              0,
              "#0d0887"
             ],
             [
              0.1111111111111111,
              "#46039f"
             ],
             [
              0.2222222222222222,
              "#7201a8"
             ],
             [
              0.3333333333333333,
              "#9c179e"
             ],
             [
              0.4444444444444444,
              "#bd3786"
             ],
             [
              0.5555555555555556,
              "#d8576b"
             ],
             [
              0.6666666666666666,
              "#ed7953"
             ],
             [
              0.7777777777777778,
              "#fb9f3a"
             ],
             [
              0.8888888888888888,
              "#fdca26"
             ],
             [
              1,
              "#f0f921"
             ]
            ],
            "type": "histogram2d"
           }
          ],
          "histogram2dcontour": [
           {
            "colorbar": {
             "outlinewidth": 0,
             "ticks": ""
            },
            "colorscale": [
             [
              0,
              "#0d0887"
             ],
             [
              0.1111111111111111,
              "#46039f"
             ],
             [
              0.2222222222222222,
              "#7201a8"
             ],
             [
              0.3333333333333333,
              "#9c179e"
             ],
             [
              0.4444444444444444,
              "#bd3786"
             ],
             [
              0.5555555555555556,
              "#d8576b"
             ],
             [
              0.6666666666666666,
              "#ed7953"
             ],
             [
              0.7777777777777778,
              "#fb9f3a"
             ],
             [
              0.8888888888888888,
              "#fdca26"
             ],
             [
              1,
              "#f0f921"
             ]
            ],
            "type": "histogram2dcontour"
           }
          ],
          "mesh3d": [
           {
            "colorbar": {
             "outlinewidth": 0,
             "ticks": ""
            },
            "type": "mesh3d"
           }
          ],
          "parcoords": [
           {
            "line": {
             "colorbar": {
              "outlinewidth": 0,
              "ticks": ""
             }
            },
            "type": "parcoords"
           }
          ],
          "pie": [
           {
            "automargin": true,
            "type": "pie"
           }
          ],
          "scatter": [
           {
            "fillpattern": {
             "fillmode": "overlay",
             "size": 10,
             "solidity": 0.2
            },
            "type": "scatter"
           }
          ],
          "scatter3d": [
           {
            "line": {
             "colorbar": {
              "outlinewidth": 0,
              "ticks": ""
             }
            },
            "marker": {
             "colorbar": {
              "outlinewidth": 0,
              "ticks": ""
             }
            },
            "type": "scatter3d"
           }
          ],
          "scattercarpet": [
           {
            "marker": {
             "colorbar": {
              "outlinewidth": 0,
              "ticks": ""
             }
            },
            "type": "scattercarpet"
           }
          ],
          "scattergeo": [
           {
            "marker": {
             "colorbar": {
              "outlinewidth": 0,
              "ticks": ""
             }
            },
            "type": "scattergeo"
           }
          ],
          "scattergl": [
           {
            "marker": {
             "colorbar": {
              "outlinewidth": 0,
              "ticks": ""
             }
            },
            "type": "scattergl"
           }
          ],
          "scattermapbox": [
           {
            "marker": {
             "colorbar": {
              "outlinewidth": 0,
              "ticks": ""
             }
            },
            "type": "scattermapbox"
           }
          ],
          "scatterpolar": [
           {
            "marker": {
             "colorbar": {
              "outlinewidth": 0,
              "ticks": ""
             }
            },
            "type": "scatterpolar"
           }
          ],
          "scatterpolargl": [
           {
            "marker": {
             "colorbar": {
              "outlinewidth": 0,
              "ticks": ""
             }
            },
            "type": "scatterpolargl"
           }
          ],
          "scatterternary": [
           {
            "marker": {
             "colorbar": {
              "outlinewidth": 0,
              "ticks": ""
             }
            },
            "type": "scatterternary"
           }
          ],
          "surface": [
           {
            "colorbar": {
             "outlinewidth": 0,
             "ticks": ""
            },
            "colorscale": [
             [
              0,
              "#0d0887"
             ],
             [
              0.1111111111111111,
              "#46039f"
             ],
             [
              0.2222222222222222,
              "#7201a8"
             ],
             [
              0.3333333333333333,
              "#9c179e"
             ],
             [
              0.4444444444444444,
              "#bd3786"
             ],
             [
              0.5555555555555556,
              "#d8576b"
             ],
             [
              0.6666666666666666,
              "#ed7953"
             ],
             [
              0.7777777777777778,
              "#fb9f3a"
             ],
             [
              0.8888888888888888,
              "#fdca26"
             ],
             [
              1,
              "#f0f921"
             ]
            ],
            "type": "surface"
           }
          ],
          "table": [
           {
            "cells": {
             "fill": {
              "color": "#EBF0F8"
             },
             "line": {
              "color": "white"
             }
            },
            "header": {
             "fill": {
              "color": "#C8D4E3"
             },
             "line": {
              "color": "white"
             }
            },
            "type": "table"
           }
          ]
         },
         "layout": {
          "annotationdefaults": {
           "arrowcolor": "#2a3f5f",
           "arrowhead": 0,
           "arrowwidth": 1
          },
          "autotypenumbers": "strict",
          "coloraxis": {
           "colorbar": {
            "outlinewidth": 0,
            "ticks": ""
           }
          },
          "colorscale": {
           "diverging": [
            [
             0,
             "#8e0152"
            ],
            [
             0.1,
             "#c51b7d"
            ],
            [
             0.2,
             "#de77ae"
            ],
            [
             0.3,
             "#f1b6da"
            ],
            [
             0.4,
             "#fde0ef"
            ],
            [
             0.5,
             "#f7f7f7"
            ],
            [
             0.6,
             "#e6f5d0"
            ],
            [
             0.7,
             "#b8e186"
            ],
            [
             0.8,
             "#7fbc41"
            ],
            [
             0.9,
             "#4d9221"
            ],
            [
             1,
             "#276419"
            ]
           ],
           "sequential": [
            [
             0,
             "#0d0887"
            ],
            [
             0.1111111111111111,
             "#46039f"
            ],
            [
             0.2222222222222222,
             "#7201a8"
            ],
            [
             0.3333333333333333,
             "#9c179e"
            ],
            [
             0.4444444444444444,
             "#bd3786"
            ],
            [
             0.5555555555555556,
             "#d8576b"
            ],
            [
             0.6666666666666666,
             "#ed7953"
            ],
            [
             0.7777777777777778,
             "#fb9f3a"
            ],
            [
             0.8888888888888888,
             "#fdca26"
            ],
            [
             1,
             "#f0f921"
            ]
           ],
           "sequentialminus": [
            [
             0,
             "#0d0887"
            ],
            [
             0.1111111111111111,
             "#46039f"
            ],
            [
             0.2222222222222222,
             "#7201a8"
            ],
            [
             0.3333333333333333,
             "#9c179e"
            ],
            [
             0.4444444444444444,
             "#bd3786"
            ],
            [
             0.5555555555555556,
             "#d8576b"
            ],
            [
             0.6666666666666666,
             "#ed7953"
            ],
            [
             0.7777777777777778,
             "#fb9f3a"
            ],
            [
             0.8888888888888888,
             "#fdca26"
            ],
            [
             1,
             "#f0f921"
            ]
           ]
          },
          "colorway": [
           "#636efa",
           "#EF553B",
           "#00cc96",
           "#ab63fa",
           "#FFA15A",
           "#19d3f3",
           "#FF6692",
           "#B6E880",
           "#FF97FF",
           "#FECB52"
          ],
          "font": {
           "color": "#2a3f5f"
          },
          "geo": {
           "bgcolor": "white",
           "lakecolor": "white",
           "landcolor": "#E5ECF6",
           "showlakes": true,
           "showland": true,
           "subunitcolor": "white"
          },
          "hoverlabel": {
           "align": "left"
          },
          "hovermode": "closest",
          "mapbox": {
           "style": "light"
          },
          "paper_bgcolor": "white",
          "plot_bgcolor": "#E5ECF6",
          "polar": {
           "angularaxis": {
            "gridcolor": "white",
            "linecolor": "white",
            "ticks": ""
           },
           "bgcolor": "#E5ECF6",
           "radialaxis": {
            "gridcolor": "white",
            "linecolor": "white",
            "ticks": ""
           }
          },
          "scene": {
           "xaxis": {
            "backgroundcolor": "#E5ECF6",
            "gridcolor": "white",
            "gridwidth": 2,
            "linecolor": "white",
            "showbackground": true,
            "ticks": "",
            "zerolinecolor": "white"
           },
           "yaxis": {
            "backgroundcolor": "#E5ECF6",
            "gridcolor": "white",
            "gridwidth": 2,
            "linecolor": "white",
            "showbackground": true,
            "ticks": "",
            "zerolinecolor": "white"
           },
           "zaxis": {
            "backgroundcolor": "#E5ECF6",
            "gridcolor": "white",
            "gridwidth": 2,
            "linecolor": "white",
            "showbackground": true,
            "ticks": "",
            "zerolinecolor": "white"
           }
          },
          "shapedefaults": {
           "line": {
            "color": "#2a3f5f"
           }
          },
          "ternary": {
           "aaxis": {
            "gridcolor": "white",
            "linecolor": "white",
            "ticks": ""
           },
           "baxis": {
            "gridcolor": "white",
            "linecolor": "white",
            "ticks": ""
           },
           "bgcolor": "#E5ECF6",
           "caxis": {
            "gridcolor": "white",
            "linecolor": "white",
            "ticks": ""
           }
          },
          "title": {
           "x": 0.05
          },
          "xaxis": {
           "automargin": true,
           "gridcolor": "white",
           "linecolor": "white",
           "ticks": "",
           "title": {
            "standoff": 15
           },
           "zerolinecolor": "white",
           "zerolinewidth": 2
          },
          "yaxis": {
           "automargin": true,
           "gridcolor": "white",
           "linecolor": "white",
           "ticks": "",
           "title": {
            "standoff": 15
           },
           "zerolinecolor": "white",
           "zerolinewidth": 2
          }
         }
        },
        "title": {
         "text": "Comparison of GPT-3 and GPT-4 Performance Metrics"
        },
        "xaxis": {
         "tickmode": "linear",
         "title": {
          "text": "Model"
         }
        },
        "yaxis": {
         "range": [
          88,
          94
         ],
         "title": {
          "text": "Percentage (%)"
         }
        }
       }
      }
     },
     "metadata": {},
     "output_type": "display_data"
    }
   ],
   "source": [
    "import plotly.graph_objects as go\n",
    "\n",
    "# Data for GPT-3 and GPT-4\n",
    "models = ['GPT-3', 'GPT-4']\n",
    "accuracy = [gpt3_accuracy, gpt4_accuracy]\n",
    "precision = [gpt3_precision, gpt4_precision]\n",
    "recall = [gpt3_recall, gpt4_recall]\n",
    "f1_score = [gpt3_f1, gpt4_f1]\n",
    "\n",
    "# Create subplots\n",
    "fig = go.Figure()\n",
    "\n",
    "# Add bar for each metric\n",
    "fig.add_trace(go.Bar(x=models, y=accuracy, name='Accuracy', marker_color='indianred'))\n",
    "fig.add_trace(go.Bar(x=models, y=precision, name='Precision', marker_color='lightsalmon'))\n",
    "fig.add_trace(go.Bar(x=models, y=recall, name='Recall', marker_color='lightseagreen'))\n",
    "fig.add_trace(go.Bar(x=models, y=f1_score, name='F1 Score', marker_color='royalblue'))\n",
    "\n",
    "# Update layout for clarity\n",
    "fig.update_layout(\n",
    "    title='Comparison of GPT-3 and GPT-4 Performance Metrics',\n",
    "    xaxis=dict(\n",
    "        title='Model',\n",
    "        tickmode='linear',\n",
    "    ),\n",
    "    yaxis=dict(\n",
    "        title='Percentage (%)',\n",
    "        range=[88, 94]\n",
    "    ),\n",
    "    barmode='group',\n",
    "    legend=dict(\n",
    "        title='Metrics'\n",
    "    )\n",
    ")\n",
    "\n",
    "# Save the figure\n",
    "fig.show()"
   ]
  },
  {
   "cell_type": "markdown",
   "metadata": {},
   "source": [
    "## Other Datasets"
   ]
  },
  {
   "cell_type": "code",
   "execution_count": null,
   "metadata": {},
   "outputs": [],
   "source": [
    "df = pd.read_csv('./dataset.csv')\n",
    "# Create a new DataFrame to store the processed rows\n",
    "processed_df = pd.DataFrame(columns=df.columns)\n",
    "\n",
    "# Process each row in the DataFrame\n",
    "for index, row in df.iterrows():\n",
    "    if row_limit is not None and index >= row_limit:\n",
    "        break\n",
    "    # Construct the prompt\n",
    "    prompt = chain_of_thought + f\"\\n\\n{row['text']}\"    \n",
    "    # print(\"Prompt:\", prompt)\n",
    "\n",
    "    email_text = row['text']    \n",
    "\n",
    "    completion = client.chat.completions.create(\n",
    "        model=\"gpt-4-turbo-preview\",\n",
    "        # model=\"gpt-3.5-turbo-1106\",\n",
    "        response_format={ \"type\": \"json_object\" },\n",
    "        messages=[\n",
    "            {\"role\": \"system\", \"content\": chain_of_thought},\n",
    "            {\"role\": \"user\", \"content\": email_text}\n",
    "        ]\n",
    "    )\n",
    "    response = completion.choices[0].message.content\n",
    "    response_json = json.loads(response)\n",
    "\n",
    "    new_row = pd.DataFrame({\n",
    "        'text': [email_text],\n",
    "        'is_deceptive': [response_json['is_deceptive']],\n",
    "        'explanation': [response_json['explanation']],\n",
    "    })\n",
    "    processed_df = pd.concat([processed_df, new_row], ignore_index=True)\n",
    "\n",
    "\n",
    "# Export DataFrame to a new CSV file\n",
    "processed_df.to_csv('gpt4t-cot-processed.csv', index=False)"
   ]
  }
 ],
 "metadata": {
  "kernelspec": {
   "display_name": "venv",
   "language": "python",
   "name": "python3"
  },
  "language_info": {
   "codemirror_mode": {
    "name": "ipython",
    "version": 3
   },
   "file_extension": ".py",
   "mimetype": "text/x-python",
   "name": "python",
   "nbconvert_exporter": "python",
   "pygments_lexer": "ipython3",
   "version": "3.12.2"
  }
 },
 "nbformat": 4,
 "nbformat_minor": 2
}
